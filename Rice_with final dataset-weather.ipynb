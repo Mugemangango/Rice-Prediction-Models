{
 "cells": [
  {
   "cell_type": "markdown",
   "metadata": {
    "id": "fPUawg69jOtK"
   },
   "source": [
    "# Import required libraries"
   ]
  },
  {
   "cell_type": "code",
   "execution_count": 912,
   "metadata": {},
   "outputs": [],
   "source": [
    "import numpy as np \n",
    "import matplotlib.pyplot as plt \n",
    "import pandas as pd \n",
    "import seaborn as sns\n",
    "from sklearn.metrics import *\n",
    "from math import sqrt\n",
    "from sklearn.model_selection import train_test_split\n",
    "import warnings\n",
    "from sklearn.preprocessing import StandardScaler\n",
    "from sklearn.model_selection import cross_val_score\n",
    "from sklearn.model_selection import GridSearchCV\n",
    "from sklearn.ensemble import RandomForestClassifier\n",
    "from sklearn.ensemble import GradientBoostingClassifier\n",
    "from sklearn.svm import SVC\n",
    "import xgboost as xgb\n",
    "import tensorflow as tf\n",
    "from sklearn.linear_model import LogisticRegression\n",
    "warnings.filterwarnings('ignore') # to supress warning"
   ]
  },
  {
   "cell_type": "markdown",
   "metadata": {},
   "source": [
    "# Load dataset(Location,rice production, Soil parameters, weather parameters)"
   ]
  },
  {
   "cell_type": "code",
   "execution_count": 913,
   "metadata": {},
   "outputs": [
    {
     "data": {
      "text/html": [
       "<div>\n",
       "<style scoped>\n",
       "    .dataframe tbody tr th:only-of-type {\n",
       "        vertical-align: middle;\n",
       "    }\n",
       "\n",
       "    .dataframe tbody tr th {\n",
       "        vertical-align: top;\n",
       "    }\n",
       "\n",
       "    .dataframe thead th {\n",
       "        text-align: right;\n",
       "    }\n",
       "</style>\n",
       "<table border=\"1\" class=\"dataframe\">\n",
       "  <thead>\n",
       "    <tr style=\"text-align: right;\">\n",
       "      <th></th>\n",
       "      <th>Year</th>\n",
       "      <th>Season</th>\n",
       "      <th>Sector_ID</th>\n",
       "      <th>Sector_Name</th>\n",
       "      <th>production</th>\n",
       "      <th>crop_area</th>\n",
       "      <th>yield</th>\n",
       "      <th>Ph</th>\n",
       "      <th>EC</th>\n",
       "      <th>Hp</th>\n",
       "      <th>...</th>\n",
       "      <th>Zn</th>\n",
       "      <th>Na</th>\n",
       "      <th>Fe</th>\n",
       "      <th>Al</th>\n",
       "      <th>ECEC</th>\n",
       "      <th>ESP</th>\n",
       "      <th>intercolumn</th>\n",
       "      <th>RainFall</th>\n",
       "      <th>Max_Temp</th>\n",
       "      <th>Min_Temp</th>\n",
       "    </tr>\n",
       "  </thead>\n",
       "  <tbody>\n",
       "    <tr>\n",
       "      <th>0</th>\n",
       "      <td>2017</td>\n",
       "      <td>A</td>\n",
       "      <td>1106</td>\n",
       "      <td>Muhima</td>\n",
       "      <td>8126.417398</td>\n",
       "      <td>4.514676</td>\n",
       "      <td>2301.324472</td>\n",
       "      <td>7.910000</td>\n",
       "      <td>113.00</td>\n",
       "      <td>0.000000</td>\n",
       "      <td>...</td>\n",
       "      <td>7.8200</td>\n",
       "      <td>39.200000</td>\n",
       "      <td>122.000000</td>\n",
       "      <td>847.0</td>\n",
       "      <td>12.200000</td>\n",
       "      <td>1.400000</td>\n",
       "      <td>1101-A-2017</td>\n",
       "      <td>475</td>\n",
       "      <td>26.968220</td>\n",
       "      <td>15.675612</td>\n",
       "    </tr>\n",
       "    <tr>\n",
       "      <th>1</th>\n",
       "      <td>2017</td>\n",
       "      <td>A</td>\n",
       "      <td>1201</td>\n",
       "      <td>Bumbogo</td>\n",
       "      <td>90.436088</td>\n",
       "      <td>0.050242</td>\n",
       "      <td>3980.711758</td>\n",
       "      <td>5.355000</td>\n",
       "      <td>65.50</td>\n",
       "      <td>0.525000</td>\n",
       "      <td>...</td>\n",
       "      <td>1.0350</td>\n",
       "      <td>48.600000</td>\n",
       "      <td>150.500000</td>\n",
       "      <td>850.0</td>\n",
       "      <td>4.055000</td>\n",
       "      <td>6.305000</td>\n",
       "      <td>1102-A-2017</td>\n",
       "      <td>564</td>\n",
       "      <td>26.305527</td>\n",
       "      <td>15.266905</td>\n",
       "    </tr>\n",
       "    <tr>\n",
       "      <th>2</th>\n",
       "      <td>2017</td>\n",
       "      <td>A</td>\n",
       "      <td>1212</td>\n",
       "      <td>Nduba</td>\n",
       "      <td>382540.539600</td>\n",
       "      <td>212.522522</td>\n",
       "      <td>4103.230998</td>\n",
       "      <td>5.780000</td>\n",
       "      <td>43.00</td>\n",
       "      <td>0.000000</td>\n",
       "      <td>...</td>\n",
       "      <td>1.5300</td>\n",
       "      <td>25.500000</td>\n",
       "      <td>194.000000</td>\n",
       "      <td>611.0</td>\n",
       "      <td>4.270000</td>\n",
       "      <td>2.600000</td>\n",
       "      <td>1103-A-2017</td>\n",
       "      <td>441</td>\n",
       "      <td>26.672825</td>\n",
       "      <td>15.815752</td>\n",
       "    </tr>\n",
       "    <tr>\n",
       "      <th>3</th>\n",
       "      <td>2017</td>\n",
       "      <td>A</td>\n",
       "      <td>1213</td>\n",
       "      <td>Remera</td>\n",
       "      <td>287899.928300</td>\n",
       "      <td>159.944405</td>\n",
       "      <td>3898.417766</td>\n",
       "      <td>0.000000</td>\n",
       "      <td>0.00</td>\n",
       "      <td>0.000000</td>\n",
       "      <td>...</td>\n",
       "      <td>0.0000</td>\n",
       "      <td>0.000000</td>\n",
       "      <td>0.000000</td>\n",
       "      <td>0.0</td>\n",
       "      <td>0.000000</td>\n",
       "      <td>0.000000</td>\n",
       "      <td>1104-A-2017</td>\n",
       "      <td>475</td>\n",
       "      <td>26.968220</td>\n",
       "      <td>15.675612</td>\n",
       "    </tr>\n",
       "    <tr>\n",
       "      <th>4</th>\n",
       "      <td>2017</td>\n",
       "      <td>A</td>\n",
       "      <td>2104</td>\n",
       "      <td>Kibirizi</td>\n",
       "      <td>322616.155900</td>\n",
       "      <td>179.231198</td>\n",
       "      <td>3795.145758</td>\n",
       "      <td>5.136667</td>\n",
       "      <td>45.75</td>\n",
       "      <td>0.716667</td>\n",
       "      <td>...</td>\n",
       "      <td>3.0025</td>\n",
       "      <td>29.608333</td>\n",
       "      <td>236.416667</td>\n",
       "      <td>215.0</td>\n",
       "      <td>4.710833</td>\n",
       "      <td>2.973333</td>\n",
       "      <td>1105-A-2017</td>\n",
       "      <td>361</td>\n",
       "      <td>27.187023</td>\n",
       "      <td>16.396612</td>\n",
       "    </tr>\n",
       "  </tbody>\n",
       "</table>\n",
       "<p>5 rows × 30 columns</p>\n",
       "</div>"
      ],
      "text/plain": [
       "   Year Season  Sector_ID Sector_Name     production   crop_area        yield  \\\n",
       "0  2017      A       1106      Muhima    8126.417398    4.514676  2301.324472   \n",
       "1  2017      A       1201     Bumbogo      90.436088    0.050242  3980.711758   \n",
       "2  2017      A       1212       Nduba  382540.539600  212.522522  4103.230998   \n",
       "3  2017      A       1213      Remera  287899.928300  159.944405  3898.417766   \n",
       "4  2017      A       2104    Kibirizi  322616.155900  179.231198  3795.145758   \n",
       "\n",
       "         Ph      EC        Hp  ...      Zn         Na          Fe     Al  \\\n",
       "0  7.910000  113.00  0.000000  ...  7.8200  39.200000  122.000000  847.0   \n",
       "1  5.355000   65.50  0.525000  ...  1.0350  48.600000  150.500000  850.0   \n",
       "2  5.780000   43.00  0.000000  ...  1.5300  25.500000  194.000000  611.0   \n",
       "3  0.000000    0.00  0.000000  ...  0.0000   0.000000    0.000000    0.0   \n",
       "4  5.136667   45.75  0.716667  ...  3.0025  29.608333  236.416667  215.0   \n",
       "\n",
       "        ECEC       ESP  intercolumn  RainFall   Max_Temp   Min_Temp  \n",
       "0  12.200000  1.400000  1101-A-2017       475  26.968220  15.675612  \n",
       "1   4.055000  6.305000  1102-A-2017       564  26.305527  15.266905  \n",
       "2   4.270000  2.600000  1103-A-2017       441  26.672825  15.815752  \n",
       "3   0.000000  0.000000  1104-A-2017       475  26.968220  15.675612  \n",
       "4   4.710833  2.973333  1105-A-2017       361  27.187023  16.396612  \n",
       "\n",
       "[5 rows x 30 columns]"
      ]
     },
     "execution_count": 913,
     "metadata": {},
     "output_type": "execute_result"
    }
   ],
   "source": [
    "data=pd.read_csv(\"Rice_officil_dataset.csv\")\n",
    "data.head()"
   ]
  },
  {
   "cell_type": "markdown",
   "metadata": {},
   "source": [
    "Load additional soil dataset"
   ]
  },
  {
   "cell_type": "code",
   "execution_count": 914,
   "metadata": {},
   "outputs": [
    {
     "data": {
      "text/html": [
       "<div>\n",
       "<style scoped>\n",
       "    .dataframe tbody tr th:only-of-type {\n",
       "        vertical-align: middle;\n",
       "    }\n",
       "\n",
       "    .dataframe tbody tr th {\n",
       "        vertical-align: top;\n",
       "    }\n",
       "\n",
       "    .dataframe thead th {\n",
       "        text-align: right;\n",
       "    }\n",
       "</style>\n",
       "<table border=\"1\" class=\"dataframe\">\n",
       "  <thead>\n",
       "    <tr style=\"text-align: right;\">\n",
       "      <th></th>\n",
       "      <th>Sector_id</th>\n",
       "      <th>DISTR</th>\n",
       "      <th>SECT_NAME</th>\n",
       "      <th>SOIL_DEPTH</th>\n",
       "      <th>SOIL_TEXTU</th>\n",
       "    </tr>\n",
       "  </thead>\n",
       "  <tbody>\n",
       "    <tr>\n",
       "      <th>0</th>\n",
       "      <td>4101</td>\n",
       "      <td>RULINDO</td>\n",
       "      <td>Base</td>\n",
       "      <td>&lt;0.5m</td>\n",
       "      <td>&gt;35% Clay</td>\n",
       "    </tr>\n",
       "    <tr>\n",
       "      <th>1</th>\n",
       "      <td>3401</td>\n",
       "      <td>NYABIHU</td>\n",
       "      <td>Bigogwe</td>\n",
       "      <td>0.5 - 1.0m</td>\n",
       "      <td>20 - 35% clay</td>\n",
       "    </tr>\n",
       "    <tr>\n",
       "      <th>2</th>\n",
       "      <td>3201</td>\n",
       "      <td>RUTSIRO</td>\n",
       "      <td>Boneza</td>\n",
       "      <td>0.5 - 1.0m</td>\n",
       "      <td>&gt;35% Clay</td>\n",
       "    </tr>\n",
       "    <tr>\n",
       "      <th>3</th>\n",
       "      <td>3601</td>\n",
       "      <td>RUSIZI</td>\n",
       "      <td>Bugarama</td>\n",
       "      <td>&gt;1.0m</td>\n",
       "      <td>&gt;35% Clay</td>\n",
       "    </tr>\n",
       "    <tr>\n",
       "      <th>4</th>\n",
       "      <td>3301</td>\n",
       "      <td>RUBAVU</td>\n",
       "      <td>Bugeshi</td>\n",
       "      <td>0.5 - 1.0m</td>\n",
       "      <td>20 - 35% clay</td>\n",
       "    </tr>\n",
       "  </tbody>\n",
       "</table>\n",
       "</div>"
      ],
      "text/plain": [
       "   Sector_id    DISTR SECT_NAME  SOIL_DEPTH     SOIL_TEXTU\n",
       "0       4101  RULINDO      Base       <0.5m      >35% Clay\n",
       "1       3401  NYABIHU   Bigogwe  0.5 - 1.0m  20 - 35% clay\n",
       "2       3201  RUTSIRO    Boneza  0.5 - 1.0m      >35% Clay\n",
       "3       3601   RUSIZI  Bugarama       >1.0m      >35% Clay\n",
       "4       3301   RUBAVU   Bugeshi  0.5 - 1.0m  20 - 35% clay"
      ]
     },
     "execution_count": 914,
     "metadata": {},
     "output_type": "execute_result"
    }
   ],
   "source": [
    "data2=pd.read_csv(\"Soil_texture.csv\")\n",
    "data2.head()"
   ]
  },
  {
   "cell_type": "markdown",
   "metadata": {},
   "source": [
    "Enrich Original dataset with soil parameters"
   ]
  },
  {
   "cell_type": "code",
   "execution_count": 915,
   "metadata": {},
   "outputs": [],
   "source": [
    "dsa={}\n",
    "for id,dat in zip(data2['Sector_id'].values,data2['SOIL_DEPTH'].values):\n",
    "    dsa[id]=dat\n",
    "    "
   ]
  },
  {
   "cell_type": "code",
   "execution_count": 916,
   "metadata": {},
   "outputs": [],
   "source": [
    "data['SOIL_DEPTH']=data['Sector_ID'].apply(lambda x:dsa[x])"
   ]
  },
  {
   "cell_type": "code",
   "execution_count": 917,
   "metadata": {},
   "outputs": [],
   "source": [
    "dsa={}\n",
    "for id,dat in zip(data2['Sector_id'].values,data2['SOIL_TEXTU'].values):\n",
    "    dsa[id]=dat"
   ]
  },
  {
   "cell_type": "code",
   "execution_count": 918,
   "metadata": {},
   "outputs": [],
   "source": [
    "data['SOIL_TEXTU']=data['Sector_ID'].apply(lambda x:dsa[x])"
   ]
  },
  {
   "cell_type": "markdown",
   "metadata": {},
   "source": [
    "# Data Preprocessing"
   ]
  },
  {
   "cell_type": "code",
   "execution_count": 919,
   "metadata": {},
   "outputs": [],
   "source": [
    "from sklearn.preprocessing import OneHotEncoder"
   ]
  },
  {
   "cell_type": "code",
   "execution_count": 920,
   "metadata": {},
   "outputs": [],
   "source": [
    "#Produce dummy variables from 'SOIL_DEPTH' field"
   ]
  },
  {
   "cell_type": "code",
   "execution_count": 921,
   "metadata": {},
   "outputs": [],
   "source": [
    "categories_reshaped = np.array(data['SOIL_DEPTH']).reshape(-1, 1)"
   ]
  },
  {
   "cell_type": "code",
   "execution_count": 922,
   "metadata": {},
   "outputs": [],
   "source": [
    "encoder = OneHotEncoder()"
   ]
  },
  {
   "cell_type": "code",
   "execution_count": 923,
   "metadata": {},
   "outputs": [],
   "source": [
    "one_hot_encoded = encoder.fit_transform(categories_reshaped).toarray()"
   ]
  },
  {
   "cell_type": "code",
   "execution_count": 924,
   "metadata": {},
   "outputs": [
    {
     "data": {
      "text/plain": [
       "array(['<0.5m', '>1.0m', '0.5 - 1.0m'], dtype=object)"
      ]
     },
     "execution_count": 924,
     "metadata": {},
     "output_type": "execute_result"
    }
   ],
   "source": [
    "data['SOIL_DEPTH'].unique()"
   ]
  },
  {
   "cell_type": "code",
   "execution_count": 925,
   "metadata": {},
   "outputs": [],
   "source": [
    "df_new=pd.DataFrame(one_hot_encoded,columns=['Soil_depth<0.5m','Soil_depth>1m','Soil_depth:0.5-1m'])"
   ]
  },
  {
   "cell_type": "code",
   "execution_count": 926,
   "metadata": {},
   "outputs": [
    {
     "data": {
      "text/plain": [
       "752"
      ]
     },
     "execution_count": 926,
     "metadata": {},
     "output_type": "execute_result"
    }
   ],
   "source": [
    "len(data)"
   ]
  },
  {
   "cell_type": "code",
   "execution_count": 927,
   "metadata": {},
   "outputs": [],
   "source": [
    "df=data.copy()"
   ]
  },
  {
   "cell_type": "code",
   "execution_count": 928,
   "metadata": {},
   "outputs": [],
   "source": [
    "data['Soil_depth<0.5m']=df_new['Soil_depth<0.5m'].values\n",
    "data['Soil_depth>1m']=df_new['Soil_depth>1m'].values\n",
    "data['Soil_depth:0.5-1m']=df_new['Soil_depth:0.5-1m'].values"
   ]
  },
  {
   "cell_type": "code",
   "execution_count": 929,
   "metadata": {},
   "outputs": [],
   "source": [
    "#Convert 'SOIL_TEXTU' field into binary variables"
   ]
  },
  {
   "cell_type": "code",
   "execution_count": 930,
   "metadata": {},
   "outputs": [],
   "source": [
    "d={'20 - 35% clay':1,'>35% Clay':0}"
   ]
  },
  {
   "cell_type": "code",
   "execution_count": 931,
   "metadata": {},
   "outputs": [],
   "source": [
    "data['SOIL_TEXTU']=data['SOIL_TEXTU'].apply(lambda x:d[x])"
   ]
  },
  {
   "cell_type": "markdown",
   "metadata": {},
   "source": [
    "Conver season into binary varable"
   ]
  },
  {
   "cell_type": "code",
   "execution_count": 932,
   "metadata": {},
   "outputs": [],
   "source": [
    "data['SeasonN2']=data['Year'].astype(str)+\"-\"+data['Season']"
   ]
  },
  {
   "cell_type": "code",
   "execution_count": 933,
   "metadata": {},
   "outputs": [
    {
     "data": {
      "text/plain": [
       "array(['A', 'B'], dtype=object)"
      ]
     },
     "execution_count": 933,
     "metadata": {},
     "output_type": "execute_result"
    }
   ],
   "source": [
    "data['Season'].unique()"
   ]
  },
  {
   "cell_type": "code",
   "execution_count": 934,
   "metadata": {},
   "outputs": [
    {
     "data": {
      "text/html": [
       "<div>\n",
       "<style scoped>\n",
       "    .dataframe tbody tr th:only-of-type {\n",
       "        vertical-align: middle;\n",
       "    }\n",
       "\n",
       "    .dataframe tbody tr th {\n",
       "        vertical-align: top;\n",
       "    }\n",
       "\n",
       "    .dataframe thead th {\n",
       "        text-align: right;\n",
       "    }\n",
       "</style>\n",
       "<table border=\"1\" class=\"dataframe\">\n",
       "  <thead>\n",
       "    <tr style=\"text-align: right;\">\n",
       "      <th></th>\n",
       "      <th>Year</th>\n",
       "      <th>Season</th>\n",
       "      <th>Sector_ID</th>\n",
       "      <th>Sector_Name</th>\n",
       "      <th>production</th>\n",
       "      <th>crop_area</th>\n",
       "      <th>yield</th>\n",
       "      <th>Ph</th>\n",
       "      <th>EC</th>\n",
       "      <th>Hp</th>\n",
       "      <th>...</th>\n",
       "      <th>RainFall</th>\n",
       "      <th>Max_Temp</th>\n",
       "      <th>Min_Temp</th>\n",
       "      <th>SOIL_DEPTH</th>\n",
       "      <th>SOIL_TEXTU</th>\n",
       "      <th>Soil_depth&lt;0.5m</th>\n",
       "      <th>Soil_depth&gt;1m</th>\n",
       "      <th>Soil_depth:0.5-1m</th>\n",
       "      <th>SeasonN2</th>\n",
       "      <th>Season2</th>\n",
       "    </tr>\n",
       "  </thead>\n",
       "  <tbody>\n",
       "    <tr>\n",
       "      <th>0</th>\n",
       "      <td>2017</td>\n",
       "      <td>A</td>\n",
       "      <td>1106</td>\n",
       "      <td>Muhima</td>\n",
       "      <td>8126.417398</td>\n",
       "      <td>4.514676</td>\n",
       "      <td>2301.324472</td>\n",
       "      <td>7.910000</td>\n",
       "      <td>113.00</td>\n",
       "      <td>0.000000</td>\n",
       "      <td>...</td>\n",
       "      <td>475</td>\n",
       "      <td>26.968220</td>\n",
       "      <td>15.675612</td>\n",
       "      <td>&lt;0.5m</td>\n",
       "      <td>0</td>\n",
       "      <td>0.0</td>\n",
       "      <td>1.0</td>\n",
       "      <td>0.0</td>\n",
       "      <td>2017-A</td>\n",
       "      <td>0</td>\n",
       "    </tr>\n",
       "    <tr>\n",
       "      <th>1</th>\n",
       "      <td>2017</td>\n",
       "      <td>A</td>\n",
       "      <td>1201</td>\n",
       "      <td>Bumbogo</td>\n",
       "      <td>90.436088</td>\n",
       "      <td>0.050242</td>\n",
       "      <td>3980.711758</td>\n",
       "      <td>5.355000</td>\n",
       "      <td>65.50</td>\n",
       "      <td>0.525000</td>\n",
       "      <td>...</td>\n",
       "      <td>564</td>\n",
       "      <td>26.305527</td>\n",
       "      <td>15.266905</td>\n",
       "      <td>&gt;1.0m</td>\n",
       "      <td>0</td>\n",
       "      <td>0.0</td>\n",
       "      <td>0.0</td>\n",
       "      <td>1.0</td>\n",
       "      <td>2017-A</td>\n",
       "      <td>0</td>\n",
       "    </tr>\n",
       "    <tr>\n",
       "      <th>2</th>\n",
       "      <td>2017</td>\n",
       "      <td>A</td>\n",
       "      <td>1212</td>\n",
       "      <td>Nduba</td>\n",
       "      <td>382540.539600</td>\n",
       "      <td>212.522522</td>\n",
       "      <td>4103.230998</td>\n",
       "      <td>5.780000</td>\n",
       "      <td>43.00</td>\n",
       "      <td>0.000000</td>\n",
       "      <td>...</td>\n",
       "      <td>441</td>\n",
       "      <td>26.672825</td>\n",
       "      <td>15.815752</td>\n",
       "      <td>&gt;1.0m</td>\n",
       "      <td>0</td>\n",
       "      <td>0.0</td>\n",
       "      <td>0.0</td>\n",
       "      <td>1.0</td>\n",
       "      <td>2017-A</td>\n",
       "      <td>0</td>\n",
       "    </tr>\n",
       "    <tr>\n",
       "      <th>3</th>\n",
       "      <td>2017</td>\n",
       "      <td>A</td>\n",
       "      <td>1213</td>\n",
       "      <td>Remera</td>\n",
       "      <td>287899.928300</td>\n",
       "      <td>159.944405</td>\n",
       "      <td>3898.417766</td>\n",
       "      <td>0.000000</td>\n",
       "      <td>0.00</td>\n",
       "      <td>0.000000</td>\n",
       "      <td>...</td>\n",
       "      <td>475</td>\n",
       "      <td>26.968220</td>\n",
       "      <td>15.675612</td>\n",
       "      <td>&gt;1.0m</td>\n",
       "      <td>0</td>\n",
       "      <td>0.0</td>\n",
       "      <td>0.0</td>\n",
       "      <td>1.0</td>\n",
       "      <td>2017-A</td>\n",
       "      <td>0</td>\n",
       "    </tr>\n",
       "    <tr>\n",
       "      <th>4</th>\n",
       "      <td>2017</td>\n",
       "      <td>A</td>\n",
       "      <td>2104</td>\n",
       "      <td>Kibirizi</td>\n",
       "      <td>322616.155900</td>\n",
       "      <td>179.231198</td>\n",
       "      <td>3795.145758</td>\n",
       "      <td>5.136667</td>\n",
       "      <td>45.75</td>\n",
       "      <td>0.716667</td>\n",
       "      <td>...</td>\n",
       "      <td>361</td>\n",
       "      <td>27.187023</td>\n",
       "      <td>16.396612</td>\n",
       "      <td>&lt;0.5m</td>\n",
       "      <td>0</td>\n",
       "      <td>0.0</td>\n",
       "      <td>1.0</td>\n",
       "      <td>0.0</td>\n",
       "      <td>2017-A</td>\n",
       "      <td>0</td>\n",
       "    </tr>\n",
       "  </tbody>\n",
       "</table>\n",
       "<p>5 rows × 37 columns</p>\n",
       "</div>"
      ],
      "text/plain": [
       "   Year Season  Sector_ID Sector_Name     production   crop_area        yield  \\\n",
       "0  2017      A       1106      Muhima    8126.417398    4.514676  2301.324472   \n",
       "1  2017      A       1201     Bumbogo      90.436088    0.050242  3980.711758   \n",
       "2  2017      A       1212       Nduba  382540.539600  212.522522  4103.230998   \n",
       "3  2017      A       1213      Remera  287899.928300  159.944405  3898.417766   \n",
       "4  2017      A       2104    Kibirizi  322616.155900  179.231198  3795.145758   \n",
       "\n",
       "         Ph      EC        Hp  ...  RainFall   Max_Temp   Min_Temp  \\\n",
       "0  7.910000  113.00  0.000000  ...       475  26.968220  15.675612   \n",
       "1  5.355000   65.50  0.525000  ...       564  26.305527  15.266905   \n",
       "2  5.780000   43.00  0.000000  ...       441  26.672825  15.815752   \n",
       "3  0.000000    0.00  0.000000  ...       475  26.968220  15.675612   \n",
       "4  5.136667   45.75  0.716667  ...       361  27.187023  16.396612   \n",
       "\n",
       "   SOIL_DEPTH  SOIL_TEXTU  Soil_depth<0.5m  Soil_depth>1m  Soil_depth:0.5-1m  \\\n",
       "0       <0.5m           0              0.0            1.0                0.0   \n",
       "1       >1.0m           0              0.0            0.0                1.0   \n",
       "2       >1.0m           0              0.0            0.0                1.0   \n",
       "3       >1.0m           0              0.0            0.0                1.0   \n",
       "4       <0.5m           0              0.0            1.0                0.0   \n",
       "\n",
       "   SeasonN2  Season2  \n",
       "0    2017-A        0  \n",
       "1    2017-A        0  \n",
       "2    2017-A        0  \n",
       "3    2017-A        0  \n",
       "4    2017-A        0  \n",
       "\n",
       "[5 rows x 37 columns]"
      ]
     },
     "execution_count": 934,
     "metadata": {},
     "output_type": "execute_result"
    }
   ],
   "source": [
    "d={'B':1,'A':0}\n",
    "data['Season2']=data['Season'].apply(lambda x:d[x])\n",
    "data.head()"
   ]
  },
  {
   "cell_type": "markdown",
   "metadata": {},
   "source": [
    "Plotting Yield production using agriculture season"
   ]
  },
  {
   "cell_type": "code",
   "execution_count": 935,
   "metadata": {},
   "outputs": [],
   "source": [
    "import matplotlib.pyplot as plt"
   ]
  },
  {
   "cell_type": "code",
   "execution_count": 936,
   "metadata": {},
   "outputs": [],
   "source": [
    "df = data.sort_values(by='SeasonN2')"
   ]
  },
  {
   "cell_type": "code",
   "execution_count": 937,
   "metadata": {},
   "outputs": [
    {
     "data": {
      "image/png": "[encoded data removed]",
      "text/plain": [
       "<Figure size 1000x300 with 1 Axes>"
      ]
     },
     "metadata": {},
     "output_type": "display_data"
    }
   ],
   "source": [
    "# Plot the boxplot with colors\n",
    "plt.figure(figsize=(10, 3))\n",
    "sns.boxplot(x='SeasonN2',y='yield', data=data, palette=\"Set1\")\n",
    "plt.title('(b).  Rice')\n",
    "plt.xlabel('Season')\n",
    "plt.ylabel('Yield')\n",
    "plt.show()"
   ]
  },
  {
   "cell_type": "markdown",
   "metadata": {},
   "source": [
    "Handling missing values"
   ]
  },
  {
   "cell_type": "code",
   "execution_count": 938,
   "metadata": {},
   "outputs": [
    {
     "data": {
      "text/plain": [
       "Year                 0\n",
       "Season               0\n",
       "Sector_ID            0\n",
       "Sector_Name          0\n",
       "production           0\n",
       "crop_area            0\n",
       "yield                0\n",
       "Ph                   0\n",
       "EC                   0\n",
       "Hp                   0\n",
       "C                    0\n",
       "N                    0\n",
       "P                    0\n",
       "K                    0\n",
       "Ca                   0\n",
       "Mg                   0\n",
       "S                    0\n",
       "Mn                   0\n",
       "Cu                   0\n",
       "B                    0\n",
       "Zn                   0\n",
       "Na                   0\n",
       "Fe                   0\n",
       "Al                   0\n",
       "ECEC                 0\n",
       "ESP                  0\n",
       "intercolumn          0\n",
       "RainFall             0\n",
       "Max_Temp             0\n",
       "Min_Temp             0\n",
       "SOIL_DEPTH           0\n",
       "SOIL_TEXTU           0\n",
       "Soil_depth<0.5m      0\n",
       "Soil_depth>1m        0\n",
       "Soil_depth:0.5-1m    0\n",
       "SeasonN2             0\n",
       "Season2              0\n",
       "dtype: int64"
      ]
     },
     "execution_count": 938,
     "metadata": {},
     "output_type": "execute_result"
    }
   ],
   "source": [
    "data.isna().sum()"
   ]
  },
  {
   "cell_type": "markdown",
   "metadata": {},
   "source": [
    "Handling Outliers"
   ]
  },
  {
   "cell_type": "code",
   "execution_count": 939,
   "metadata": {},
   "outputs": [],
   "source": [
    "from scipy import stats\n",
    "def remove_outliers_z_score(data, columns, threshold=3):\n",
    "    z_scores = np.abs(stats.zscore(data[columns]))\n",
    "    outlier_rows = (z_scores > threshold).any(axis=1)\n",
    "    df_no_outliers = data[~outlier_rows]\n",
    "    return df_no_outliers\n",
    "columns_to_check = ['yield']\n",
    "df_no_outliers = remove_outliers_z_score(data, columns_to_check)\n",
    "df=df_no_outliers"
   ]
  },
  {
   "cell_type": "markdown",
   "metadata": {},
   "source": [
    "Converting Yield production into classes (0: Low Production, 1: High Production)"
   ]
  },
  {
   "cell_type": "code",
   "execution_count": 940,
   "metadata": {},
   "outputs": [],
   "source": [
    "df['Class'] =data['yield'].apply(lambda x:0 if x < df['yield'].mean() else  1 )"
   ]
  },
  {
   "cell_type": "code",
   "execution_count": 941,
   "metadata": {},
   "outputs": [
    {
     "data": {
      "text/plain": [
       "Class\n",
       "0    383\n",
       "1    364\n",
       "Name: count, dtype: int64"
      ]
     },
     "execution_count": 941,
     "metadata": {},
     "output_type": "execute_result"
    }
   ],
   "source": [
    "df['Class'].value_counts()"
   ]
  },
  {
   "cell_type": "markdown",
   "metadata": {},
   "source": [
    "# Calculate crop yield using production and crop area"
   ]
  },
  {
   "cell_type": "code",
   "execution_count": 942,
   "metadata": {},
   "outputs": [],
   "source": [
    "df['yield']=df['production']/df['crop_area']"
   ]
  },
  {
   "cell_type": "code",
   "execution_count": 943,
   "metadata": {},
   "outputs": [],
   "source": [
    "df['Class'] =df['yield'].apply(lambda x:0 if x < df['yield'].mean() else  1 )"
   ]
  },
  {
   "cell_type": "markdown",
   "metadata": {},
   "source": [
    "Selecting fields of interest"
   ]
  },
  {
   "cell_type": "code",
   "execution_count": 944,
   "metadata": {},
   "outputs": [],
   "source": [
    "df2=df[['Ph',\n",
    "       'EC', 'Hp', 'C', 'N', 'P', 'K', 'Ca', 'Mg', 'S', 'Mn', 'Cu', 'B', 'Zn',\n",
    "       'Na', 'Fe', 'Al', 'ECEC', 'ESP', 'RainFall', 'Max_Temp', 'Min_Temp','SOIL_TEXTU', 'Soil_depth<0.5m', 'Soil_depth>1m', 'Soil_depth:0.5-1m','Season2', 'Class']]"
   ]
  },
  {
   "cell_type": "markdown",
   "metadata": {},
   "source": [
    "Splitting the the dataset into features (X) and Target (Y) varaibles"
   ]
  },
  {
   "cell_type": "code",
   "execution_count": 945,
   "metadata": {},
   "outputs": [],
   "source": [
    "X=df2[['Ph',\n",
    "       'EC', 'Hp', 'C', 'N', 'P', 'K', 'Ca', 'Mg', 'S', 'Mn', 'Cu', 'B', 'Zn',\n",
    "       'Na', 'Fe', 'Al', 'ECEC', 'ESP', 'RainFall', 'Max_Temp', 'Min_Temp','SOIL_TEXTU', 'Soil_depth<0.5m', 'Soil_depth>1m', 'Soil_depth:0.5-1m','Season2']]\n",
    "Y=df2['Class']"
   ]
  },
  {
   "cell_type": "markdown",
   "metadata": {},
   "source": [
    "Identifying proper names for features"
   ]
  },
  {
   "cell_type": "code",
   "execution_count": 946,
   "metadata": {},
   "outputs": [],
   "source": [
    "cols=['Hydrogen Potential',\n",
    "       'Electrical Conductivity', 'Hydraulic Properties', 'Carbon', 'Nitrogen', 'Phosphorus', 'Potassium', 'Calcium', 'Magnesium', 'Sulfur ', 'Manganese', 'Copper', 'Bore', 'Zinc',\n",
    "       'Sodium', 'Iron', 'Aluminium', 'Effective cation Exchange Capacity', 'Exchangeable Sodium Percentage', 'Precipitations', 'Maximum Temperature', 'Minimum Temperature','Soil Texture', 'Soil Depth<0.5m', 'Soil Depth>1m', 'Soil Depth:0.5-1m','Agricultural Season']"
   ]
  },
  {
   "cell_type": "code",
   "execution_count": 947,
   "metadata": {},
   "outputs": [],
   "source": [
    "#Displaying dataset size"
   ]
  },
  {
   "cell_type": "code",
   "execution_count": 948,
   "metadata": {},
   "outputs": [
    {
     "data": {
      "text/plain": [
       "(747, 27)"
      ]
     },
     "execution_count": 948,
     "metadata": {},
     "output_type": "execute_result"
    }
   ],
   "source": [
    "X.shape"
   ]
  },
  {
   "cell_type": "code",
   "execution_count": 949,
   "metadata": {},
   "outputs": [
    {
     "data": {
      "text/plain": [
       "Class\n",
       "0    467\n",
       "1    280\n",
       "Name: count, dtype: int64"
      ]
     },
     "execution_count": 949,
     "metadata": {},
     "output_type": "execute_result"
    }
   ],
   "source": [
    "df2['Class'].value_counts()"
   ]
  },
  {
   "cell_type": "markdown",
   "metadata": {},
   "source": [
    "Renaming features"
   ]
  },
  {
   "cell_type": "code",
   "execution_count": 950,
   "metadata": {},
   "outputs": [],
   "source": [
    "X.columns=['Ph', 'EC', 'Hp', 'C', 'N', 'P', 'K', 'Ca', 'Mg', 'S', 'Mn', 'Cu', 'B',\n",
    "       'Zn', 'Na', 'Fe', 'Al', 'ECEC', 'ESP', 'RainFall', 'Max_Temp',\n",
    "       'Min_Temp', 'SOIL_TEXTU', 'Soil_depth_less_than_0.5m', 'Soil_depth_greater_than_1m',\n",
    "       'Soil_depth_ between_0.5 and 1m', 'Season2']"
   ]
  },
  {
   "cell_type": "markdown",
   "metadata": {},
   "source": [
    "# Apply data Standardization techniques"
   ]
  },
  {
   "cell_type": "code",
   "execution_count": 951,
   "metadata": {},
   "outputs": [],
   "source": [
    "from sklearn.preprocessing import StandardScaler,MinMaxScaler\n",
    "scaler=StandardScaler()"
   ]
  },
  {
   "cell_type": "code",
   "execution_count": 952,
   "metadata": {},
   "outputs": [],
   "source": [
    "X=scaler.fit_transform(X)"
   ]
  },
  {
   "cell_type": "markdown",
   "metadata": {},
   "source": [
    "# Splitting dataset into training and testing subsets"
   ]
  },
  {
   "cell_type": "code",
   "execution_count": 953,
   "metadata": {},
   "outputs": [],
   "source": [
    "from sklearn.model_selection import train_test_split"
   ]
  },
  {
   "cell_type": "code",
   "execution_count": 954,
   "metadata": {},
   "outputs": [],
   "source": [
    "X_train,X_test,Y_train,Y_test=train_test_split(X,Y,test_size=0.2,random_state=22) #18,22"
   ]
  },
  {
   "cell_type": "code",
   "execution_count": 955,
   "metadata": {},
   "outputs": [
    {
     "data": {
      "text/plain": [
       "Counter({0: 99, 1: 51})"
      ]
     },
     "execution_count": 955,
     "metadata": {},
     "output_type": "execute_result"
    }
   ],
   "source": [
    "from collections import Counter\n",
    "Counter(Y_test)"
   ]
  },
  {
   "cell_type": "markdown",
   "metadata": {},
   "source": [
    "## Start Model training process:"
   ]
  },
  {
   "cell_type": "markdown",
   "metadata": {},
   "source": [
    "# Model1: Random Forest"
   ]
  },
  {
   "cell_type": "code",
   "execution_count": 956,
   "metadata": {},
   "outputs": [
    {
     "data": {
      "text/html": [
       "<style>#sk-container-id-57 {color: black;}#sk-container-id-57 pre{padding: 0;}#sk-container-id-57 div.sk-toggleable {background-color: white;}#sk-container-id-57 label.sk-toggleable__label {cursor: pointer;display: block;width: 100%;margin-bottom: 0;padding: 0.3em;box-sizing: border-box;text-align: center;}#sk-container-id-57 label.sk-toggleable__label-arrow:before {content: \"▸\";float: left;margin-right: 0.25em;color: #696969;}#sk-container-id-57 label.sk-toggleable__label-arrow:hover:before {color: black;}#sk-container-id-57 div.sk-estimator:hover label.sk-toggleable__label-arrow:before {color: black;}#sk-container-id-57 div.sk-toggleable__content {max-height: 0;max-width: 0;overflow: hidden;text-align: left;background-color: #f0f8ff;}#sk-container-id-57 div.sk-toggleable__content pre {margin: 0.2em;color: black;border-radius: 0.25em;background-color: #f0f8ff;}#sk-container-id-57 input.sk-toggleable__control:checked~div.sk-toggleable__content {max-height: 200px;max-width: 100%;overflow: auto;}#sk-container-id-57 input.sk-toggleable__control:checked~label.sk-toggleable__label-arrow:before {content: \"▾\";}#sk-container-id-57 div.sk-estimator input.sk-toggleable__control:checked~label.sk-toggleable__label {background-color: #d4ebff;}#sk-container-id-57 div.sk-label input.sk-toggleable__control:checked~label.sk-toggleable__label {background-color: #d4ebff;}#sk-container-id-57 input.sk-hidden--visually {border: 0;clip: rect(1px 1px 1px 1px);clip: rect(1px, 1px, 1px, 1px);height: 1px;margin: -1px;overflow: hidden;padding: 0;position: absolute;width: 1px;}#sk-container-id-57 div.sk-estimator {font-family: monospace;background-color: #f0f8ff;border: 1px dotted black;border-radius: 0.25em;box-sizing: border-box;margin-bottom: 0.5em;}#sk-container-id-57 div.sk-estimator:hover {background-color: #d4ebff;}#sk-container-id-57 div.sk-parallel-item::after {content: \"\";width: 100%;border-bottom: 1px solid gray;flex-grow: 1;}#sk-container-id-57 div.sk-label:hover label.sk-toggleable__label {background-color: #d4ebff;}#sk-container-id-57 div.sk-serial::before {content: \"\";position: absolute;border-left: 1px solid gray;box-sizing: border-box;top: 0;bottom: 0;left: 50%;z-index: 0;}#sk-container-id-57 div.sk-serial {display: flex;flex-direction: column;align-items: center;background-color: white;padding-right: 0.2em;padding-left: 0.2em;position: relative;}#sk-container-id-57 div.sk-item {position: relative;z-index: 1;}#sk-container-id-57 div.sk-parallel {display: flex;align-items: stretch;justify-content: center;background-color: white;position: relative;}#sk-container-id-57 div.sk-item::before, #sk-container-id-57 div.sk-parallel-item::before {content: \"\";position: absolute;border-left: 1px solid gray;box-sizing: border-box;top: 0;bottom: 0;left: 50%;z-index: -1;}#sk-container-id-57 div.sk-parallel-item {display: flex;flex-direction: column;z-index: 1;position: relative;background-color: white;}#sk-container-id-57 div.sk-parallel-item:first-child::after {align-self: flex-end;width: 50%;}#sk-container-id-57 div.sk-parallel-item:last-child::after {align-self: flex-start;width: 50%;}#sk-container-id-57 div.sk-parallel-item:only-child::after {width: 0;}#sk-container-id-57 div.sk-dashed-wrapped {border: 1px dashed gray;margin: 0 0.4em 0.5em 0.4em;box-sizing: border-box;padding-bottom: 0.4em;background-color: white;}#sk-container-id-57 div.sk-label label {font-family: monospace;font-weight: bold;display: inline-block;line-height: 1.2em;}#sk-container-id-57 div.sk-label-container {text-align: center;}#sk-container-id-57 div.sk-container {/* jupyter's `normalize.less` sets `[hidden] { display: none; }` but bootstrap.min.css set `[hidden] { display: none !important; }` so we also need the `!important` here to be able to override the default hidden behavior on the sphinx rendered scikit-learn.org. See: https://github.com/scikit-learn/scikit-learn/issues/21755 */display: inline-block !important;position: relative;}#sk-container-id-57 div.sk-text-repr-fallback {display: none;}</style><div id=\"sk-container-id-57\" class=\"sk-top-container\"><div class=\"sk-text-repr-fallback\"><pre>RandomForestClassifier(max_depth=5, random_state=13)</pre><b>In a Jupyter environment, please rerun this cell to show the HTML representation or trust the notebook. <br />On GitHub, the HTML representation is unable to render, please try loading this page with nbviewer.org.</b></div><div class=\"sk-container\" hidden><div class=\"sk-item\"><div class=\"sk-estimator sk-toggleable\"><input class=\"sk-toggleable__control sk-hidden--visually\" id=\"sk-estimator-id-57\" type=\"checkbox\" checked><label for=\"sk-estimator-id-57\" class=\"sk-toggleable__label sk-toggleable__label-arrow\">RandomForestClassifier</label><div class=\"sk-toggleable__content\"><pre>RandomForestClassifier(max_depth=5, random_state=13)</pre></div></div></div></div></div>"
      ],
      "text/plain": [
       "RandomForestClassifier(max_depth=5, random_state=13)"
      ]
     },
     "execution_count": 956,
     "metadata": {},
     "output_type": "execute_result"
    }
   ],
   "source": [
    "from sklearn.ensemble import RandomForestClassifier # importing algorithm\n",
    "model=RandomForestClassifier(max_depth=5,random_state=13) # 19 build the model\n",
    "model.fit(X_train,Y_train) # model training"
   ]
  },
  {
   "cell_type": "code",
   "execution_count": 957,
   "metadata": {},
   "outputs": [
    {
     "name": "stdout",
     "output_type": "stream",
     "text": [
      "Accuracy = 0.92\n"
     ]
    }
   ],
   "source": [
    "print('Accuracy = {:.2f}'.format(model.score(X_train,Y_train)))"
   ]
  },
  {
   "cell_type": "code",
   "execution_count": 958,
   "metadata": {},
   "outputs": [
    {
     "name": "stdout",
     "output_type": "stream",
     "text": [
      "Accuracy = 0.91\n"
     ]
    }
   ],
   "source": [
    "print('Accuracy = {:.2f}'.format(model.score(X_test,Y_test)))"
   ]
  },
  {
   "cell_type": "code",
   "execution_count": 959,
   "metadata": {},
   "outputs": [],
   "source": [
    "from sklearn.metrics import *"
   ]
  },
  {
   "cell_type": "code",
   "execution_count": 960,
   "metadata": {},
   "outputs": [
    {
     "name": "stdout",
     "output_type": "stream",
     "text": [
      "Precision: 0.8490566037735849 ,Sensitivity : 0.8823529411764706 \n"
     ]
    }
   ],
   "source": [
    "# Evaluate model\n",
    "y_pred1 = (model.predict(X_test) > 0.5).astype(\"int32\")\n",
    "accuracy2 = accuracy_score(Y_test, y_pred1)\n",
    "precision2 = precision_score(Y_test, y_pred1)\n",
    "recall2 = recall_score(Y_test, y_pred1)\n",
    "\n",
    "print(f'Precision: {precision2} ,Sensitivity : {recall2} ')"
   ]
  },
  {
   "cell_type": "code",
   "execution_count": 961,
   "metadata": {},
   "outputs": [
    {
     "name": "stdout",
     "output_type": "stream",
     "text": [
      "Precision: 0.885593220338983 ,Sensitivity : 0.9126637554585153 \n"
     ]
    }
   ],
   "source": [
    "# Evaluate model on training dataset\n",
    "y_pred = (model.predict(X_train) > 0.5).astype(\"int32\")\n",
    "accuracy2 = accuracy_score(Y_train, y_pred)\n",
    "precision2 = precision_score(Y_train, y_pred)\n",
    "recall2 = recall_score(Y_train, y_pred)\n",
    "\n",
    "print(f'Precision: {precision2} ,Sensitivity : {recall2} ')"
   ]
  },
  {
   "cell_type": "markdown",
   "metadata": {},
   "source": [
    "# Model2: eXtreme Gradient Boosting"
   ]
  },
  {
   "cell_type": "code",
   "execution_count": 962,
   "metadata": {},
   "outputs": [
    {
     "data": {
      "text/html": [
       "<style>#sk-container-id-58 {color: black;}#sk-container-id-58 pre{padding: 0;}#sk-container-id-58 div.sk-toggleable {background-color: white;}#sk-container-id-58 label.sk-toggleable__label {cursor: pointer;display: block;width: 100%;margin-bottom: 0;padding: 0.3em;box-sizing: border-box;text-align: center;}#sk-container-id-58 label.sk-toggleable__label-arrow:before {content: \"▸\";float: left;margin-right: 0.25em;color: #696969;}#sk-container-id-58 label.sk-toggleable__label-arrow:hover:before {color: black;}#sk-container-id-58 div.sk-estimator:hover label.sk-toggleable__label-arrow:before {color: black;}#sk-container-id-58 div.sk-toggleable__content {max-height: 0;max-width: 0;overflow: hidden;text-align: left;background-color: #f0f8ff;}#sk-container-id-58 div.sk-toggleable__content pre {margin: 0.2em;color: black;border-radius: 0.25em;background-color: #f0f8ff;}#sk-container-id-58 input.sk-toggleable__control:checked~div.sk-toggleable__content {max-height: 200px;max-width: 100%;overflow: auto;}#sk-container-id-58 input.sk-toggleable__control:checked~label.sk-toggleable__label-arrow:before {content: \"▾\";}#sk-container-id-58 div.sk-estimator input.sk-toggleable__control:checked~label.sk-toggleable__label {background-color: #d4ebff;}#sk-container-id-58 div.sk-label input.sk-toggleable__control:checked~label.sk-toggleable__label {background-color: #d4ebff;}#sk-container-id-58 input.sk-hidden--visually {border: 0;clip: rect(1px 1px 1px 1px);clip: rect(1px, 1px, 1px, 1px);height: 1px;margin: -1px;overflow: hidden;padding: 0;position: absolute;width: 1px;}#sk-container-id-58 div.sk-estimator {font-family: monospace;background-color: #f0f8ff;border: 1px dotted black;border-radius: 0.25em;box-sizing: border-box;margin-bottom: 0.5em;}#sk-container-id-58 div.sk-estimator:hover {background-color: #d4ebff;}#sk-container-id-58 div.sk-parallel-item::after {content: \"\";width: 100%;border-bottom: 1px solid gray;flex-grow: 1;}#sk-container-id-58 div.sk-label:hover label.sk-toggleable__label {background-color: #d4ebff;}#sk-container-id-58 div.sk-serial::before {content: \"\";position: absolute;border-left: 1px solid gray;box-sizing: border-box;top: 0;bottom: 0;left: 50%;z-index: 0;}#sk-container-id-58 div.sk-serial {display: flex;flex-direction: column;align-items: center;background-color: white;padding-right: 0.2em;padding-left: 0.2em;position: relative;}#sk-container-id-58 div.sk-item {position: relative;z-index: 1;}#sk-container-id-58 div.sk-parallel {display: flex;align-items: stretch;justify-content: center;background-color: white;position: relative;}#sk-container-id-58 div.sk-item::before, #sk-container-id-58 div.sk-parallel-item::before {content: \"\";position: absolute;border-left: 1px solid gray;box-sizing: border-box;top: 0;bottom: 0;left: 50%;z-index: -1;}#sk-container-id-58 div.sk-parallel-item {display: flex;flex-direction: column;z-index: 1;position: relative;background-color: white;}#sk-container-id-58 div.sk-parallel-item:first-child::after {align-self: flex-end;width: 50%;}#sk-container-id-58 div.sk-parallel-item:last-child::after {align-self: flex-start;width: 50%;}#sk-container-id-58 div.sk-parallel-item:only-child::after {width: 0;}#sk-container-id-58 div.sk-dashed-wrapped {border: 1px dashed gray;margin: 0 0.4em 0.5em 0.4em;box-sizing: border-box;padding-bottom: 0.4em;background-color: white;}#sk-container-id-58 div.sk-label label {font-family: monospace;font-weight: bold;display: inline-block;line-height: 1.2em;}#sk-container-id-58 div.sk-label-container {text-align: center;}#sk-container-id-58 div.sk-container {/* jupyter's `normalize.less` sets `[hidden] { display: none; }` but bootstrap.min.css set `[hidden] { display: none !important; }` so we also need the `!important` here to be able to override the default hidden behavior on the sphinx rendered scikit-learn.org. See: https://github.com/scikit-learn/scikit-learn/issues/21755 */display: inline-block !important;position: relative;}#sk-container-id-58 div.sk-text-repr-fallback {display: none;}</style><div id=\"sk-container-id-58\" class=\"sk-top-container\"><div class=\"sk-text-repr-fallback\"><pre>XGBClassifier(base_score=None, booster=None, callbacks=None,\n",
       "              colsample_bylevel=None, colsample_bynode=None,\n",
       "              colsample_bytree=None, device=None, early_stopping_rounds=None,\n",
       "              enable_categorical=False, eval_metric=None, feature_types=None,\n",
       "              gamma=None, grow_policy=None, importance_type=None,\n",
       "              interaction_constraints=None, learning_rate=0.1, max_bin=None,\n",
       "              max_cat_threshold=None, max_cat_to_onehot=None,\n",
       "              max_delta_step=None, max_depth=2, max_leaves=None,\n",
       "              min_child_weight=None, missing=nan, monotone_constraints=None,\n",
       "              multi_strategy=None, n_estimators=None, n_jobs=None,\n",
       "              num_parallel_tree=None, random_state=None, ...)</pre><b>In a Jupyter environment, please rerun this cell to show the HTML representation or trust the notebook. <br />On GitHub, the HTML representation is unable to render, please try loading this page with nbviewer.org.</b></div><div class=\"sk-container\" hidden><div class=\"sk-item\"><div class=\"sk-estimator sk-toggleable\"><input class=\"sk-toggleable__control sk-hidden--visually\" id=\"sk-estimator-id-58\" type=\"checkbox\" checked><label for=\"sk-estimator-id-58\" class=\"sk-toggleable__label sk-toggleable__label-arrow\">XGBClassifier</label><div class=\"sk-toggleable__content\"><pre>XGBClassifier(base_score=None, booster=None, callbacks=None,\n",
       "              colsample_bylevel=None, colsample_bynode=None,\n",
       "              colsample_bytree=None, device=None, early_stopping_rounds=None,\n",
       "              enable_categorical=False, eval_metric=None, feature_types=None,\n",
       "              gamma=None, grow_policy=None, importance_type=None,\n",
       "              interaction_constraints=None, learning_rate=0.1, max_bin=None,\n",
       "              max_cat_threshold=None, max_cat_to_onehot=None,\n",
       "              max_delta_step=None, max_depth=2, max_leaves=None,\n",
       "              min_child_weight=None, missing=nan, monotone_constraints=None,\n",
       "              multi_strategy=None, n_estimators=None, n_jobs=None,\n",
       "              num_parallel_tree=None, random_state=None, ...)</pre></div></div></div></div></div>"
      ],
      "text/plain": [
       "XGBClassifier(base_score=None, booster=None, callbacks=None,\n",
       "              colsample_bylevel=None, colsample_bynode=None,\n",
       "              colsample_bytree=None, device=None, early_stopping_rounds=None,\n",
       "              enable_categorical=False, eval_metric=None, feature_types=None,\n",
       "              gamma=None, grow_policy=None, importance_type=None,\n",
       "              interaction_constraints=None, learning_rate=0.1, max_bin=None,\n",
       "              max_cat_threshold=None, max_cat_to_onehot=None,\n",
       "              max_delta_step=None, max_depth=2, max_leaves=None,\n",
       "              min_child_weight=None, missing=nan, monotone_constraints=None,\n",
       "              multi_strategy=None, n_estimators=None, n_jobs=None,\n",
       "              num_parallel_tree=None, random_state=None, ...)"
      ]
     },
     "execution_count": 962,
     "metadata": {},
     "output_type": "execute_result"
    }
   ],
   "source": [
    "import xgboost as xgb # importing algorithm\n",
    "model = xgb.XGBClassifier(max_depth=2,learning_rate=0.1) # build the model4\n",
    "model.fit(X_train,Y_train) # model training"
   ]
  },
  {
   "cell_type": "code",
   "execution_count": 963,
   "metadata": {},
   "outputs": [
    {
     "name": "stdout",
     "output_type": "stream",
     "text": [
      "Accuracy = 0.91\n",
      "Accuracy = 0.91\n"
     ]
    }
   ],
   "source": [
    "print('Accuracy = {:.2f}'.format(model.score(X_train,Y_train)))\n",
    "print('Accuracy = {:.2f}'.format(model.score(X_test,Y_test)))"
   ]
  },
  {
   "cell_type": "markdown",
   "metadata": {},
   "source": [
    "Plot features importance in prediction results"
   ]
  },
  {
   "cell_type": "code",
   "execution_count": 964,
   "metadata": {},
   "outputs": [
    {
     "data": {
      "image/png": "[encoded data removed]",
      "text/plain": [
       "<Figure size 1000x600 with 1 Axes>"
      ]
     },
     "metadata": {},
     "output_type": "display_data"
    }
   ],
   "source": [
    "import numpy as np\n",
    "import seaborn as sns\n",
    "import matplotlib.pyplot as plt\n",
    "\n",
    "# Assuming `model` is already trained and `X` is your feature matrix\n",
    "\n",
    "# Get feature importances\n",
    "importances = model.feature_importances_\n",
    "\n",
    "# Get feature names if available (otherwise, use feature indices)\n",
    "feature_names = [t for t in cols]\n",
    "\n",
    "# Combine feature names and importances into a list of tuples and sort by importance\n",
    "feature_importances = sorted(zip(feature_names, importances), key=lambda x: x[1], reverse=True)\n",
    "\n",
    "# Unzip the feature importances into names and values\n",
    "feature_names, importances = zip(*feature_importances)\n",
    "\n",
    "# Convert to a pandas DataFrame for easier plotting\n",
    "import pandas as pd\n",
    "df = pd.DataFrame({'Feature': feature_names, 'Importance': importances})\n",
    "\n",
    "# Create a bar plot\n",
    "plt.figure(figsize=(10, 6))\n",
    "sns.barplot(x='Importance', y='Feature', data=df)\n",
    "\n",
    "# Add labels and title\n",
    "plt.xlabel('Feature Importance')\n",
    "plt.ylabel('Features')\n",
    "plt.title('Feature Importances')\n",
    "plt.show()"
   ]
  },
  {
   "cell_type": "code",
   "execution_count": 965,
   "metadata": {},
   "outputs": [
    {
     "name": "stdout",
     "output_type": "stream",
     "text": [
      "Accuracy: 0.9133333333333333\n",
      "Precision: 0.8275862068965517\n",
      "Recall: 0.9411764705882353\n",
      "F1 Score: 0.8807339449541284\n"
     ]
    }
   ],
   "source": [
    "# Evaluate model\n",
    "y_pred = (model.predict(X_test) > 0.5).astype(\"int32\")\n",
    "accuracy = accuracy_score(Y_test, y_pred)\n",
    "precision = precision_score(Y_test, y_pred)\n",
    "recall = recall_score(Y_test, y_pred)\n",
    "f1 = f1_score(Y_test, y_pred)\n",
    "conf_matrix = confusion_matrix(Y_test, y_pred)\n",
    "\n",
    "print(f'Accuracy: {accuracy}')\n",
    "print(f'Precision: {precision}')\n",
    "print(f'Recall: {recall}')\n",
    "print(f'F1 Score: {f1}')"
   ]
  },
  {
   "cell_type": "markdown",
   "metadata": {},
   "source": [
    "# Model 3: Gradient Boosting"
   ]
  },
  {
   "cell_type": "code",
   "execution_count": 966,
   "metadata": {},
   "outputs": [
    {
     "data": {
      "text/html": [
       "<style>#sk-container-id-59 {color: black;}#sk-container-id-59 pre{padding: 0;}#sk-container-id-59 div.sk-toggleable {background-color: white;}#sk-container-id-59 label.sk-toggleable__label {cursor: pointer;display: block;width: 100%;margin-bottom: 0;padding: 0.3em;box-sizing: border-box;text-align: center;}#sk-container-id-59 label.sk-toggleable__label-arrow:before {content: \"▸\";float: left;margin-right: 0.25em;color: #696969;}#sk-container-id-59 label.sk-toggleable__label-arrow:hover:before {color: black;}#sk-container-id-59 div.sk-estimator:hover label.sk-toggleable__label-arrow:before {color: black;}#sk-container-id-59 div.sk-toggleable__content {max-height: 0;max-width: 0;overflow: hidden;text-align: left;background-color: #f0f8ff;}#sk-container-id-59 div.sk-toggleable__content pre {margin: 0.2em;color: black;border-radius: 0.25em;background-color: #f0f8ff;}#sk-container-id-59 input.sk-toggleable__control:checked~div.sk-toggleable__content {max-height: 200px;max-width: 100%;overflow: auto;}#sk-container-id-59 input.sk-toggleable__control:checked~label.sk-toggleable__label-arrow:before {content: \"▾\";}#sk-container-id-59 div.sk-estimator input.sk-toggleable__control:checked~label.sk-toggleable__label {background-color: #d4ebff;}#sk-container-id-59 div.sk-label input.sk-toggleable__control:checked~label.sk-toggleable__label {background-color: #d4ebff;}#sk-container-id-59 input.sk-hidden--visually {border: 0;clip: rect(1px 1px 1px 1px);clip: rect(1px, 1px, 1px, 1px);height: 1px;margin: -1px;overflow: hidden;padding: 0;position: absolute;width: 1px;}#sk-container-id-59 div.sk-estimator {font-family: monospace;background-color: #f0f8ff;border: 1px dotted black;border-radius: 0.25em;box-sizing: border-box;margin-bottom: 0.5em;}#sk-container-id-59 div.sk-estimator:hover {background-color: #d4ebff;}#sk-container-id-59 div.sk-parallel-item::after {content: \"\";width: 100%;border-bottom: 1px solid gray;flex-grow: 1;}#sk-container-id-59 div.sk-label:hover label.sk-toggleable__label {background-color: #d4ebff;}#sk-container-id-59 div.sk-serial::before {content: \"\";position: absolute;border-left: 1px solid gray;box-sizing: border-box;top: 0;bottom: 0;left: 50%;z-index: 0;}#sk-container-id-59 div.sk-serial {display: flex;flex-direction: column;align-items: center;background-color: white;padding-right: 0.2em;padding-left: 0.2em;position: relative;}#sk-container-id-59 div.sk-item {position: relative;z-index: 1;}#sk-container-id-59 div.sk-parallel {display: flex;align-items: stretch;justify-content: center;background-color: white;position: relative;}#sk-container-id-59 div.sk-item::before, #sk-container-id-59 div.sk-parallel-item::before {content: \"\";position: absolute;border-left: 1px solid gray;box-sizing: border-box;top: 0;bottom: 0;left: 50%;z-index: -1;}#sk-container-id-59 div.sk-parallel-item {display: flex;flex-direction: column;z-index: 1;position: relative;background-color: white;}#sk-container-id-59 div.sk-parallel-item:first-child::after {align-self: flex-end;width: 50%;}#sk-container-id-59 div.sk-parallel-item:last-child::after {align-self: flex-start;width: 50%;}#sk-container-id-59 div.sk-parallel-item:only-child::after {width: 0;}#sk-container-id-59 div.sk-dashed-wrapped {border: 1px dashed gray;margin: 0 0.4em 0.5em 0.4em;box-sizing: border-box;padding-bottom: 0.4em;background-color: white;}#sk-container-id-59 div.sk-label label {font-family: monospace;font-weight: bold;display: inline-block;line-height: 1.2em;}#sk-container-id-59 div.sk-label-container {text-align: center;}#sk-container-id-59 div.sk-container {/* jupyter's `normalize.less` sets `[hidden] { display: none; }` but bootstrap.min.css set `[hidden] { display: none !important; }` so we also need the `!important` here to be able to override the default hidden behavior on the sphinx rendered scikit-learn.org. See: https://github.com/scikit-learn/scikit-learn/issues/21755 */display: inline-block !important;position: relative;}#sk-container-id-59 div.sk-text-repr-fallback {display: none;}</style><div id=\"sk-container-id-59\" class=\"sk-top-container\"><div class=\"sk-text-repr-fallback\"><pre>GradientBoostingClassifier(max_depth=2, random_state=34)</pre><b>In a Jupyter environment, please rerun this cell to show the HTML representation or trust the notebook. <br />On GitHub, the HTML representation is unable to render, please try loading this page with nbviewer.org.</b></div><div class=\"sk-container\" hidden><div class=\"sk-item\"><div class=\"sk-estimator sk-toggleable\"><input class=\"sk-toggleable__control sk-hidden--visually\" id=\"sk-estimator-id-59\" type=\"checkbox\" checked><label for=\"sk-estimator-id-59\" class=\"sk-toggleable__label sk-toggleable__label-arrow\">GradientBoostingClassifier</label><div class=\"sk-toggleable__content\"><pre>GradientBoostingClassifier(max_depth=2, random_state=34)</pre></div></div></div></div></div>"
      ],
      "text/plain": [
       "GradientBoostingClassifier(max_depth=2, random_state=34)"
      ]
     },
     "execution_count": 966,
     "metadata": {},
     "output_type": "execute_result"
    }
   ],
   "source": [
    "from sklearn.ensemble import GradientBoostingClassifier\n",
    "model3=GradientBoostingClassifier(max_depth=2,random_state=34)\n",
    "model3.fit(X_train,Y_train)"
   ]
  },
  {
   "cell_type": "code",
   "execution_count": 967,
   "metadata": {},
   "outputs": [
    {
     "name": "stdout",
     "output_type": "stream",
     "text": [
      "Precision: 0.8245614035087719 ,Sensitivity : 0.9215686274509803 \n"
     ]
    }
   ],
   "source": [
    "y_pred3 = (model3.predict(X_test) > 0.5).astype(\"int32\")\n",
    "accuracy2 = accuracy_score(Y_test, y_pred3)\n",
    "precision2 = precision_score(Y_test, y_pred3)\n",
    "recall2 = recall_score(Y_test, y_pred3)\n",
    "\n",
    "print(f'Precision: {precision2} ,Sensitivity : {recall2} ')"
   ]
  },
  {
   "cell_type": "code",
   "execution_count": 968,
   "metadata": {},
   "outputs": [
    {
     "name": "stdout",
     "output_type": "stream",
     "text": [
      "Accuracy: 0.9066666666666666\n",
      "Precision: 0.8245614035087719\n",
      "Recall: 0.9215686274509803\n",
      "F1 Score: 0.8703703703703703\n"
     ]
    }
   ],
   "source": [
    "# Evaluate model\n",
    "y_pred = (model3.predict(X_test) > 0.5).astype(\"int32\")\n",
    "accuracy = accuracy_score(Y_test, y_pred)\n",
    "precision = precision_score(Y_test, y_pred)\n",
    "recall = recall_score(Y_test, y_pred)\n",
    "f1 = f1_score(Y_test, y_pred)\n",
    "conf_matrix = confusion_matrix(Y_test, y_pred)\n",
    "\n",
    "print(f'Accuracy: {accuracy}')\n",
    "print(f'Precision: {precision}')\n",
    "print(f'Recall: {recall}')\n",
    "print(f'F1 Score: {f1}')"
   ]
  },
  {
   "cell_type": "markdown",
   "metadata": {},
   "source": [
    "# Model 4: Support Vector machine"
   ]
  },
  {
   "cell_type": "code",
   "execution_count": 969,
   "metadata": {},
   "outputs": [
    {
     "data": {
      "text/html": [
       "<style>#sk-container-id-60 {color: black;}#sk-container-id-60 pre{padding: 0;}#sk-container-id-60 div.sk-toggleable {background-color: white;}#sk-container-id-60 label.sk-toggleable__label {cursor: pointer;display: block;width: 100%;margin-bottom: 0;padding: 0.3em;box-sizing: border-box;text-align: center;}#sk-container-id-60 label.sk-toggleable__label-arrow:before {content: \"▸\";float: left;margin-right: 0.25em;color: #696969;}#sk-container-id-60 label.sk-toggleable__label-arrow:hover:before {color: black;}#sk-container-id-60 div.sk-estimator:hover label.sk-toggleable__label-arrow:before {color: black;}#sk-container-id-60 div.sk-toggleable__content {max-height: 0;max-width: 0;overflow: hidden;text-align: left;background-color: #f0f8ff;}#sk-container-id-60 div.sk-toggleable__content pre {margin: 0.2em;color: black;border-radius: 0.25em;background-color: #f0f8ff;}#sk-container-id-60 input.sk-toggleable__control:checked~div.sk-toggleable__content {max-height: 200px;max-width: 100%;overflow: auto;}#sk-container-id-60 input.sk-toggleable__control:checked~label.sk-toggleable__label-arrow:before {content: \"▾\";}#sk-container-id-60 div.sk-estimator input.sk-toggleable__control:checked~label.sk-toggleable__label {background-color: #d4ebff;}#sk-container-id-60 div.sk-label input.sk-toggleable__control:checked~label.sk-toggleable__label {background-color: #d4ebff;}#sk-container-id-60 input.sk-hidden--visually {border: 0;clip: rect(1px 1px 1px 1px);clip: rect(1px, 1px, 1px, 1px);height: 1px;margin: -1px;overflow: hidden;padding: 0;position: absolute;width: 1px;}#sk-container-id-60 div.sk-estimator {font-family: monospace;background-color: #f0f8ff;border: 1px dotted black;border-radius: 0.25em;box-sizing: border-box;margin-bottom: 0.5em;}#sk-container-id-60 div.sk-estimator:hover {background-color: #d4ebff;}#sk-container-id-60 div.sk-parallel-item::after {content: \"\";width: 100%;border-bottom: 1px solid gray;flex-grow: 1;}#sk-container-id-60 div.sk-label:hover label.sk-toggleable__label {background-color: #d4ebff;}#sk-container-id-60 div.sk-serial::before {content: \"\";position: absolute;border-left: 1px solid gray;box-sizing: border-box;top: 0;bottom: 0;left: 50%;z-index: 0;}#sk-container-id-60 div.sk-serial {display: flex;flex-direction: column;align-items: center;background-color: white;padding-right: 0.2em;padding-left: 0.2em;position: relative;}#sk-container-id-60 div.sk-item {position: relative;z-index: 1;}#sk-container-id-60 div.sk-parallel {display: flex;align-items: stretch;justify-content: center;background-color: white;position: relative;}#sk-container-id-60 div.sk-item::before, #sk-container-id-60 div.sk-parallel-item::before {content: \"\";position: absolute;border-left: 1px solid gray;box-sizing: border-box;top: 0;bottom: 0;left: 50%;z-index: -1;}#sk-container-id-60 div.sk-parallel-item {display: flex;flex-direction: column;z-index: 1;position: relative;background-color: white;}#sk-container-id-60 div.sk-parallel-item:first-child::after {align-self: flex-end;width: 50%;}#sk-container-id-60 div.sk-parallel-item:last-child::after {align-self: flex-start;width: 50%;}#sk-container-id-60 div.sk-parallel-item:only-child::after {width: 0;}#sk-container-id-60 div.sk-dashed-wrapped {border: 1px dashed gray;margin: 0 0.4em 0.5em 0.4em;box-sizing: border-box;padding-bottom: 0.4em;background-color: white;}#sk-container-id-60 div.sk-label label {font-family: monospace;font-weight: bold;display: inline-block;line-height: 1.2em;}#sk-container-id-60 div.sk-label-container {text-align: center;}#sk-container-id-60 div.sk-container {/* jupyter's `normalize.less` sets `[hidden] { display: none; }` but bootstrap.min.css set `[hidden] { display: none !important; }` so we also need the `!important` here to be able to override the default hidden behavior on the sphinx rendered scikit-learn.org. See: https://github.com/scikit-learn/scikit-learn/issues/21755 */display: inline-block !important;position: relative;}#sk-container-id-60 div.sk-text-repr-fallback {display: none;}</style><div id=\"sk-container-id-60\" class=\"sk-top-container\"><div class=\"sk-text-repr-fallback\"><pre>SVC(max_iter=950)</pre><b>In a Jupyter environment, please rerun this cell to show the HTML representation or trust the notebook. <br />On GitHub, the HTML representation is unable to render, please try loading this page with nbviewer.org.</b></div><div class=\"sk-container\" hidden><div class=\"sk-item\"><div class=\"sk-estimator sk-toggleable\"><input class=\"sk-toggleable__control sk-hidden--visually\" id=\"sk-estimator-id-60\" type=\"checkbox\" checked><label for=\"sk-estimator-id-60\" class=\"sk-toggleable__label sk-toggleable__label-arrow\">SVC</label><div class=\"sk-toggleable__content\"><pre>SVC(max_iter=950)</pre></div></div></div></div></div>"
      ],
      "text/plain": [
       "SVC(max_iter=950)"
      ]
     },
     "execution_count": 969,
     "metadata": {},
     "output_type": "execute_result"
    }
   ],
   "source": [
    "model=SVC(kernel='rbf',max_iter=950) # build the model\n",
    "model.fit(X_train,Y_train) # model training"
   ]
  },
  {
   "cell_type": "code",
   "execution_count": 970,
   "metadata": {},
   "outputs": [
    {
     "name": "stdout",
     "output_type": "stream",
     "text": [
      "Train-accuracy =  88.107202680067\n",
      "Testing-accuracy  84.0\n"
     ]
    }
   ],
   "source": [
    "print(\"Train-accuracy = \",100*model.score(X_train,Y_train))\n",
    "print(\"Testing-accuracy \",100*model.score(X_test,Y_test))"
   ]
  },
  {
   "cell_type": "code",
   "execution_count": 971,
   "metadata": {},
   "outputs": [
    {
     "name": "stdout",
     "output_type": "stream",
     "text": [
      "Precision: 0.7647058823529411 ,Sensitivity : 0.7647058823529411 \n"
     ]
    }
   ],
   "source": [
    "y_pred4 = (model.predict(X_test) > 0.5).astype(\"int32\")\n",
    "accuracy2 = accuracy_score(Y_test, y_pred4)\n",
    "precision2 = precision_score(Y_test, y_pred4)\n",
    "recall2 = recall_score(Y_test, y_pred4)\n",
    "\n",
    "print(f'Precision: {precision2} ,Sensitivity : {recall2} ')\n",
    "#Precision: 0.7647058823529411 ,Sensitivity : 0.7647058823529411"
   ]
  },
  {
   "cell_type": "markdown",
   "metadata": {},
   "source": [
    "Model 5: Artificial Neural Network"
   ]
  },
  {
   "cell_type": "code",
   "execution_count": 972,
   "metadata": {},
   "outputs": [],
   "source": [
    "from tensorflow import keras"
   ]
  },
  {
   "cell_type": "code",
   "execution_count": 973,
   "metadata": {},
   "outputs": [
    {
     "data": {
      "text/plain": [
       "(597, 27)"
      ]
     },
     "execution_count": 973,
     "metadata": {},
     "output_type": "execute_result"
    }
   ],
   "source": [
    "X_train.shape"
   ]
  },
  {
   "cell_type": "code",
   "execution_count": 974,
   "metadata": {},
   "outputs": [],
   "source": [
    "import tensorflow as tf\n",
    "from tensorflow import keras\n",
    "#Build model architecture of ANN\n",
    "model = keras.models.Sequential([keras.layers.Dense(units=64,activation='relu',input_shape=[27]),\n",
    "                                 keras.layers.Dropout(0.4),#0.2\n",
    "                                 keras.layers.Dense(units=64,activation='relu'),\n",
    "                                 keras.layers.Dropout(0.4),\n",
    "                                keras.layers.Dense(units=1,activation='sigmoid')])"
   ]
  },
  {
   "cell_type": "code",
   "execution_count": 975,
   "metadata": {},
   "outputs": [],
   "source": [
    "model.compile(optimizer='adam',loss='binary_crossentropy',metrics='accuracy')"
   ]
  },
  {
   "cell_type": "code",
   "execution_count": 976,
   "metadata": {},
   "outputs": [
    {
     "name": "stdout",
     "output_type": "stream",
     "text": [
      "Epoch 1/50\n",
      "19/19 [==============================] - 1s 10ms/step - loss: 0.7429 - accuracy: 0.5243 - val_loss: 0.6319 - val_accuracy: 0.6600\n",
      "Epoch 2/50\n",
      "19/19 [==============================] - 0s 3ms/step - loss: 0.6821 - accuracy: 0.5863 - val_loss: 0.5987 - val_accuracy: 0.7067\n",
      "Epoch 3/50\n",
      "19/19 [==============================] - 0s 3ms/step - loss: 0.6217 - accuracy: 0.6616 - val_loss: 0.5740 - val_accuracy: 0.7333\n",
      "Epoch 4/50\n",
      "19/19 [==============================] - 0s 2ms/step - loss: 0.5967 - accuracy: 0.6767 - val_loss: 0.5452 - val_accuracy: 0.7467\n",
      "Epoch 5/50\n",
      "19/19 [==============================] - 0s 2ms/step - loss: 0.5629 - accuracy: 0.7035 - val_loss: 0.5217 - val_accuracy: 0.7600\n",
      "Epoch 6/50\n",
      "19/19 [==============================] - 0s 2ms/step - loss: 0.5479 - accuracy: 0.7136 - val_loss: 0.4981 - val_accuracy: 0.7667\n",
      "Epoch 7/50\n",
      "19/19 [==============================] - 0s 3ms/step - loss: 0.5273 - accuracy: 0.7554 - val_loss: 0.4689 - val_accuracy: 0.7800\n",
      "Epoch 8/50\n",
      "19/19 [==============================] - 0s 3ms/step - loss: 0.5120 - accuracy: 0.7454 - val_loss: 0.4386 - val_accuracy: 0.8000\n",
      "Epoch 9/50\n",
      "19/19 [==============================] - 0s 4ms/step - loss: 0.4700 - accuracy: 0.7906 - val_loss: 0.4172 - val_accuracy: 0.8000\n",
      "Epoch 10/50\n",
      "19/19 [==============================] - 0s 2ms/step - loss: 0.4652 - accuracy: 0.7873 - val_loss: 0.3963 - val_accuracy: 0.7733\n",
      "Epoch 11/50\n",
      "19/19 [==============================] - 0s 3ms/step - loss: 0.4337 - accuracy: 0.7789 - val_loss: 0.3737 - val_accuracy: 0.7933\n",
      "Epoch 12/50\n",
      "19/19 [==============================] - 0s 3ms/step - loss: 0.4268 - accuracy: 0.8141 - val_loss: 0.3550 - val_accuracy: 0.8200\n",
      "Epoch 13/50\n",
      "19/19 [==============================] - 0s 2ms/step - loss: 0.4091 - accuracy: 0.8057 - val_loss: 0.3405 - val_accuracy: 0.8267\n",
      "Epoch 14/50\n",
      "19/19 [==============================] - 0s 3ms/step - loss: 0.4271 - accuracy: 0.8124 - val_loss: 0.3304 - val_accuracy: 0.8400\n",
      "Epoch 15/50\n",
      "19/19 [==============================] - 0s 3ms/step - loss: 0.4140 - accuracy: 0.8141 - val_loss: 0.3231 - val_accuracy: 0.8400\n",
      "Epoch 16/50\n",
      "19/19 [==============================] - 0s 3ms/step - loss: 0.3830 - accuracy: 0.8224 - val_loss: 0.3186 - val_accuracy: 0.8467\n",
      "Epoch 17/50\n",
      "19/19 [==============================] - 0s 3ms/step - loss: 0.3828 - accuracy: 0.8258 - val_loss: 0.3106 - val_accuracy: 0.8533\n",
      "Epoch 18/50\n",
      "19/19 [==============================] - 0s 2ms/step - loss: 0.3857 - accuracy: 0.8425 - val_loss: 0.3062 - val_accuracy: 0.8600\n",
      "Epoch 19/50\n",
      "19/19 [==============================] - 0s 2ms/step - loss: 0.3831 - accuracy: 0.8224 - val_loss: 0.3081 - val_accuracy: 0.8467\n",
      "Epoch 20/50\n",
      "19/19 [==============================] - 0s 2ms/step - loss: 0.3433 - accuracy: 0.8576 - val_loss: 0.3009 - val_accuracy: 0.8667\n",
      "Epoch 21/50\n",
      "19/19 [==============================] - 0s 3ms/step - loss: 0.3641 - accuracy: 0.8425 - val_loss: 0.2953 - val_accuracy: 0.8467\n",
      "Epoch 22/50\n",
      "19/19 [==============================] - 0s 3ms/step - loss: 0.3604 - accuracy: 0.8375 - val_loss: 0.2885 - val_accuracy: 0.8600\n",
      "Epoch 23/50\n",
      "19/19 [==============================] - 0s 3ms/step - loss: 0.3412 - accuracy: 0.8392 - val_loss: 0.2885 - val_accuracy: 0.8600\n",
      "Epoch 24/50\n",
      "19/19 [==============================] - 0s 3ms/step - loss: 0.3356 - accuracy: 0.8358 - val_loss: 0.2893 - val_accuracy: 0.8667\n",
      "Epoch 25/50\n",
      "19/19 [==============================] - 0s 3ms/step - loss: 0.3279 - accuracy: 0.8492 - val_loss: 0.2843 - val_accuracy: 0.8733\n",
      "Epoch 26/50\n",
      "19/19 [==============================] - 0s 3ms/step - loss: 0.3252 - accuracy: 0.8509 - val_loss: 0.2893 - val_accuracy: 0.8667\n",
      "Epoch 27/50\n",
      "19/19 [==============================] - 0s 2ms/step - loss: 0.3258 - accuracy: 0.8509 - val_loss: 0.2856 - val_accuracy: 0.8533\n",
      "Epoch 28/50\n",
      "19/19 [==============================] - 0s 2ms/step - loss: 0.3315 - accuracy: 0.8526 - val_loss: 0.2802 - val_accuracy: 0.8733\n",
      "Epoch 29/50\n",
      "19/19 [==============================] - 0s 3ms/step - loss: 0.3233 - accuracy: 0.8543 - val_loss: 0.2809 - val_accuracy: 0.8800\n",
      "Epoch 30/50\n",
      "19/19 [==============================] - 0s 3ms/step - loss: 0.3110 - accuracy: 0.8626 - val_loss: 0.2797 - val_accuracy: 0.8600\n",
      "Epoch 31/50\n",
      "19/19 [==============================] - 0s 3ms/step - loss: 0.3077 - accuracy: 0.8660 - val_loss: 0.2741 - val_accuracy: 0.8667\n",
      "Epoch 32/50\n",
      "19/19 [==============================] - 0s 3ms/step - loss: 0.3227 - accuracy: 0.8576 - val_loss: 0.2695 - val_accuracy: 0.8800\n",
      "Epoch 33/50\n",
      "19/19 [==============================] - 0s 3ms/step - loss: 0.3199 - accuracy: 0.8559 - val_loss: 0.2717 - val_accuracy: 0.8733\n",
      "Epoch 34/50\n",
      "19/19 [==============================] - 0s 3ms/step - loss: 0.3179 - accuracy: 0.8492 - val_loss: 0.2741 - val_accuracy: 0.8733\n",
      "Epoch 35/50\n",
      "19/19 [==============================] - 0s 2ms/step - loss: 0.2986 - accuracy: 0.8643 - val_loss: 0.2692 - val_accuracy: 0.8800\n",
      "Epoch 36/50\n",
      "19/19 [==============================] - 0s 3ms/step - loss: 0.3167 - accuracy: 0.8643 - val_loss: 0.2686 - val_accuracy: 0.8867\n",
      "Epoch 37/50\n",
      "19/19 [==============================] - 0s 3ms/step - loss: 0.3060 - accuracy: 0.8610 - val_loss: 0.2707 - val_accuracy: 0.8867\n",
      "Epoch 38/50\n",
      "19/19 [==============================] - 0s 2ms/step - loss: 0.3043 - accuracy: 0.8744 - val_loss: 0.2817 - val_accuracy: 0.8800\n",
      "Epoch 39/50\n",
      "19/19 [==============================] - 0s 2ms/step - loss: 0.3097 - accuracy: 0.8693 - val_loss: 0.2774 - val_accuracy: 0.8800\n",
      "Epoch 40/50\n",
      "19/19 [==============================] - 0s 2ms/step - loss: 0.2835 - accuracy: 0.8827 - val_loss: 0.2767 - val_accuracy: 0.8800\n",
      "Epoch 41/50\n",
      "19/19 [==============================] - 0s 2ms/step - loss: 0.2978 - accuracy: 0.8643 - val_loss: 0.2757 - val_accuracy: 0.8733\n",
      "Epoch 42/50\n",
      "19/19 [==============================] - 0s 2ms/step - loss: 0.2992 - accuracy: 0.8794 - val_loss: 0.2745 - val_accuracy: 0.8800\n",
      "Epoch 43/50\n",
      "19/19 [==============================] - 0s 2ms/step - loss: 0.3030 - accuracy: 0.8760 - val_loss: 0.2729 - val_accuracy: 0.8867\n",
      "Epoch 44/50\n",
      "19/19 [==============================] - 0s 3ms/step - loss: 0.2782 - accuracy: 0.8677 - val_loss: 0.2740 - val_accuracy: 0.9000\n",
      "Epoch 45/50\n",
      "19/19 [==============================] - 0s 2ms/step - loss: 0.3075 - accuracy: 0.8760 - val_loss: 0.2782 - val_accuracy: 0.8867\n",
      "Epoch 46/50\n",
      "19/19 [==============================] - 0s 2ms/step - loss: 0.2936 - accuracy: 0.8777 - val_loss: 0.2805 - val_accuracy: 0.8800\n",
      "Epoch 47/50\n",
      "19/19 [==============================] - 0s 2ms/step - loss: 0.2819 - accuracy: 0.8811 - val_loss: 0.2792 - val_accuracy: 0.8933\n",
      "Epoch 48/50\n",
      "19/19 [==============================] - 0s 2ms/step - loss: 0.2815 - accuracy: 0.8660 - val_loss: 0.2811 - val_accuracy: 0.8800\n",
      "Epoch 49/50\n",
      "19/19 [==============================] - 0s 2ms/step - loss: 0.3002 - accuracy: 0.8677 - val_loss: 0.2906 - val_accuracy: 0.8667\n",
      "Epoch 50/50\n",
      "19/19 [==============================] - 0s 2ms/step - loss: 0.2920 - accuracy: 0.8744 - val_loss: 0.2842 - val_accuracy: 0.8733\n"
     ]
    }
   ],
   "source": [
    "history=model.fit(X_train,Y_train,validation_data=(X_test,Y_test),epochs=50,batch_size=32) #120"
   ]
  },
  {
   "cell_type": "code",
   "execution_count": 977,
   "metadata": {},
   "outputs": [
    {
     "data": {
      "text/plain": [
       "dict_keys(['loss', 'accuracy', 'val_loss', 'val_accuracy'])"
      ]
     },
     "execution_count": 977,
     "metadata": {},
     "output_type": "execute_result"
    }
   ],
   "source": [
    "history.history.keys()"
   ]
  },
  {
   "cell_type": "code",
   "execution_count": 978,
   "metadata": {},
   "outputs": [
    {
     "name": "stdout",
     "output_type": "stream",
     "text": [
      "5/5 [==============================] - 0s 750us/step\n"
     ]
    }
   ],
   "source": [
    "y_pred5 = model.predict(X_test)"
   ]
  },
  {
   "cell_type": "code",
   "execution_count": 979,
   "metadata": {},
   "outputs": [],
   "source": [
    "from sklearn.metrics import accuracy_score, precision_score, recall_score, f1_score, confusion_matrix"
   ]
  },
  {
   "cell_type": "code",
   "execution_count": 980,
   "metadata": {},
   "outputs": [
    {
     "name": "stdout",
     "output_type": "stream",
     "text": [
      "5/5 [==============================] - 0s 877us/step\n",
      "Accuracy: 0.8733333333333333\n",
      "Precision: 0.82\n",
      "Recall: 0.803921568627451\n",
      "F1 Score: 0.8118811881188118\n"
     ]
    }
   ],
   "source": [
    "# Evaluate model\n",
    "y_pred5 = (model.predict(X_test) > 0.5).astype(\"int32\")\n",
    "accuracy = accuracy_score(Y_test, y_pred5)\n",
    "precision = precision_score(Y_test, y_pred5)\n",
    "recall = recall_score(Y_test, y_pred5)\n",
    "f1 = f1_score(Y_test, y_pred5)\n",
    "cm5 = confusion_matrix(Y_test, y_pred5)\n",
    "\n",
    "print(f'Accuracy: {accuracy}')\n",
    "print(f'Precision: {precision}')\n",
    "print(f'Recall: {recall}')\n",
    "print(f'F1 Score: {f1}')"
   ]
  },
  {
   "cell_type": "code",
   "execution_count": 981,
   "metadata": {},
   "outputs": [
    {
     "name": "stdout",
     "output_type": "stream",
     "text": [
      "19/19 [==============================] - 0s 722us/step\n",
      "Accuracy: 0.8961474036850922\n",
      "Precision: 0.8300395256916996\n",
      "Recall: 0.9170305676855895\n",
      "F1 Score: 0.871369294605809\n"
     ]
    }
   ],
   "source": [
    "# Evaluate model on training set\n",
    "y_pred = (model.predict(X_train) > 0.5).astype(\"int32\")\n",
    "accuracy = accuracy_score(Y_train, y_pred)\n",
    "precision = precision_score(Y_train, y_pred)\n",
    "recall = recall_score(Y_train, y_pred)\n",
    "f1 = f1_score(Y_train, y_pred)\n",
    "conf_matrix = confusion_matrix(Y_train, y_pred)\n",
    "\n",
    "print(f'Accuracy: {accuracy}')\n",
    "print(f'Precision: {precision}')\n",
    "print(f'Recall: {recall}')\n",
    "print(f'F1 Score: {f1}')"
   ]
  },
  {
   "cell_type": "markdown",
   "metadata": {},
   "source": [
    "# Model 6: Logistic Regression"
   ]
  },
  {
   "cell_type": "code",
   "execution_count": 982,
   "metadata": {},
   "outputs": [],
   "source": [
    "from sklearn.linear_model import LogisticRegression"
   ]
  },
  {
   "cell_type": "code",
   "execution_count": 983,
   "metadata": {},
   "outputs": [
    {
     "name": "stdout",
     "output_type": "stream",
     "text": [
      "Train-accuracy =  86.76716917922947\n",
      "Testing-accuracy  88.0\n"
     ]
    }
   ],
   "source": [
    "model = LogisticRegression(max_iter=700,C=1,random_state=42)\n",
    "model.fit(X_train,Y_train) # model training\n",
    "print(\"Train-accuracy = \",100*model.score(X_train,Y_train))\n",
    "print(\"Testing-accuracy \",100*model.score(X_test,Y_test))"
   ]
  },
  {
   "cell_type": "code",
   "execution_count": 984,
   "metadata": {},
   "outputs": [
    {
     "name": "stdout",
     "output_type": "stream",
     "text": [
      "Precision: 0.8113207547169812 ,Sensitivity : 0.8431372549019608 \n"
     ]
    }
   ],
   "source": [
    "y_pred6 = (model.predict(X_test) > 0.5).astype(\"int32\")\n",
    "accuracy2 = accuracy_score(Y_test, y_pred6)\n",
    "precision2 = precision_score(Y_test, y_pred6)\n",
    "recall2 = recall_score(Y_test, y_pred6)\n",
    "\n",
    "print(f'Precision: {precision2} ,Sensitivity : {recall2} ')\n",
    "#Precision: 0.7647058823529411 ,Sensitivity : 0.7647058823529411"
   ]
  },
  {
   "cell_type": "markdown",
   "metadata": {},
   "source": [
    "# Plotting Confusion matrix"
   ]
  },
  {
   "cell_type": "code",
   "execution_count": 985,
   "metadata": {},
   "outputs": [
    {
     "data": {
      "image/png": "[encoded data removed]",
      "text/plain": [
       "<Figure size 1000x500 with 12 Axes>"
      ]
     },
     "metadata": {},
     "output_type": "display_data"
    }
   ],
   "source": [
    "models = {\n",
    "    \"Random Forest\": confusion_matrix(Y_test, y_pred1),\n",
    "    \"eXtreme Gradient Boosting\": confusion_matrix(Y_test, y_pred2),\n",
    "    \"Gradient Boosting\": confusion_matrix(Y_test, y_pred3),\n",
    "    \"Support Vector Machine\": confusion_matrix(Y_test, y_pred4),\n",
    "    \"Artificial Neural Network\": confusion_matrix(Y_test, y_pred5),\n",
    "    \"Logistic Regression\": confusion_matrix(Y_test, y_pred6),\n",
    "}\n",
    "# Class labels\n",
    "labels = ['Class 0', 'Class 1']\n",
    "\n",
    "# Plot confusion matrices\n",
    "fig, axes = plt.subplots(2, 3, figsize=(10, 5))\n",
    "\n",
    "for ax, (model_name, cm) in zip(axes.flat, models.items()):\n",
    "    sns.heatmap(cm, annot=True, fmt='d', cmap='Blues', xticklabels=labels, yticklabels=labels, ax=ax)\n",
    "    ax.set_title(model_name)\n",
    "    ax.set_xlabel(\"Predicted Label\")\n",
    "    ax.set_ylabel(\"True Label\")\n",
    "\n",
    "plt.tight_layout()\n",
    "plt.show()"
   ]
  },
  {
   "cell_type": "code",
   "execution_count": null,
   "metadata": {},
   "outputs": [],
   "source": []
  },
  {
   "cell_type": "code",
   "execution_count": null,
   "metadata": {},
   "outputs": [],
   "source": []
  }
 ],
 "metadata": {
  "colab": {
   "name": "Agripractices (1).ipynb",
   "provenance": []
  },
  "kernelspec": {
   "display_name": "Python 3 (ipykernel)",
   "language": "python",
   "name": "python3"
  },
  "language_info": {
   "codemirror_mode": {
    "name": "ipython",
    "version": 3
   },
   "file_extension": ".py",
   "mimetype": "text/x-python",
   "name": "python",
   "nbconvert_exporter": "python",
   "pygments_lexer": "ipython3",
   "version": "3.10.9"
  }
 },
 "nbformat": 4,
 "nbformat_minor": 4
}
